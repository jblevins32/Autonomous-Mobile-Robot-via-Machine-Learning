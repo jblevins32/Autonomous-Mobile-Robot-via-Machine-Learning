{
 "cells": [
  {
   "cell_type": "code",
   "execution_count": 2,
   "metadata": {},
   "outputs": [],
   "source": [
    "import numpy as np\n",
    "import pandas as pd\n",
    "import matplotlib\n",
    "import matplotlib.pyplot as plt\n",
    "from matplotlib.animation import FuncAnimation\n",
    "from scipy.spatial.transform import Rotation as R\n",
    "# from mpl_toolkits.mplot3d import axes3d\n",
    "import DBSCAN\n",
    "import tqdm"
   ]
  },
  {
   "cell_type": "markdown",
   "metadata": {},
   "source": [
    "# Load Data"
   ]
  },
  {
   "cell_type": "code",
   "execution_count": 3,
   "metadata": {},
   "outputs": [],
   "source": [
    "lidar_df = pd.read_csv(\"../data/raw_dataset_lidar.csv\")\n",
    "odom_df = pd.read_csv(\"../data/raw_dataset_odom.csv\")"
   ]
  },
  {
   "cell_type": "markdown",
   "metadata": {},
   "source": [
    "## Process Raw Data"
   ]
  },
  {
   "cell_type": "code",
   "execution_count": 4,
   "metadata": {},
   "outputs": [],
   "source": [
    "## From anupama_dev\n",
    "# selecting useful features\n",
    "lidar_cols = ['frame_id', 'time_sec', 'time_nanosec', 'ranges']\n",
    "odom_cols = ['frame_id', 'position_x', 'position_y', 'position_z', 'velocity_x', 'velocity_y', 'velocity_z', 'orientation_x', 'orientation_y', 'orientation_z', 'orientation_w', 'omega_x', 'omega_y', 'omega_z']\n",
    "\n",
    "# DataFrames containing (almost) matched lidar and odom data\n",
    "lidar_match = pd.DataFrame()\n",
    "odom_match = pd.DataFrame()\n",
    "\n",
    "times_s = lidar_df['time_sec']\n",
    "times_nano = lidar_df['time_nanosec']\n",
    "for i in range(len(times_s)):\n",
    "  # selecting frames with same time (s)\n",
    "  odoms_s = odom_df[odom_df['time_sec'] == times_s[i]]\n",
    "  # matching data with least time (nanosec) diff\n",
    "  diff_nanosec = pd.Series(odoms_s['time_nanosec'] - lidar_df.iloc[i]['time_nanosec'])\n",
    "  min_diff = abs(diff_nanosec).idxmin()\n",
    "  lidar_match = pd.concat([lidar_match, lidar_df.loc[i, lidar_cols]], axis=1)\n",
    "  odom_match = pd.concat([odom_match, odoms_s.loc[min_diff, odom_cols]], axis=1)\n",
    "\n",
    "# ensuring cols are the featuers\n",
    "lidar_match = lidar_match.T\n",
    "odom_match = odom_match.T\n",
    "\n",
    "# substituting 'frame_id' fields with ranges to help merge later\n",
    "lidar_match['frame_id'] = range(len(lidar_match))\n",
    "odom_match['frame_id'] = range(len(odom_match))\n",
    "\n",
    "# merged DataFrame with both lidar and odom data\n",
    "merged_df = lidar_match.merge(odom_match, how=\"inner\", on='frame_id')\n",
    "# merged_df"
   ]
  },
  {
   "cell_type": "code",
   "execution_count": 5,
   "metadata": {},
   "outputs": [],
   "source": [
    "# from pierros-dev\n",
    "def expand_column(df, column_name):\n",
    "    # Remove brackets and extra spaces/newlines, then split into individual values\n",
    "    clean_data = df[column_name].apply(lambda x: x.replace('[', '').replace(']', '').replace('\\n', ' ').strip().split())\n",
    "    # Convert 'inf' to np.inf and convert values to float\n",
    "    clean_data = clean_data.apply(lambda x: [np.inf if v == 'inf' else float(v) for v in x])\n",
    "    \n",
    "    # Create a new DataFrame with the expanded columns\n",
    "    expanded_df = pd.DataFrame(clean_data.tolist(), index=df.index)\n",
    "    # Rename the columns\n",
    "    expanded_df.columns = [f\"{column_name}_{i+1}\" for i in range(expanded_df.shape[1])]\n",
    "    \n",
    "    return expanded_df"
   ]
  },
  {
   "cell_type": "code",
   "execution_count": 6,
   "metadata": {},
   "outputs": [],
   "source": [
    "merged_df = pd.read_csv(\"../data/merged_lidar_odom_data.csv\")\n",
    "merged_df = pd.concat([merged_df, expand_column(merged_df, 'ranges')], axis=1)\n",
    "merged_df = merged_df.drop([\"ranges\"], axis=1)\n",
    "# merged_df"
   ]
  },
  {
   "cell_type": "markdown",
   "metadata": {},
   "source": [
    "## Extract Obstacles"
   ]
  },
  {
   "cell_type": "code",
   "execution_count": 7,
   "metadata": {},
   "outputs": [],
   "source": [
    "# from anupama-dev\n",
    "def radar_data(df):\n",
    "    # Replace np.inf with np.nan\n",
    "    df.replace([np.inf, -np.inf], np.nan, inplace=True)\n",
    "\n",
    "    # Select columns starting with 'ColumnX'\n",
    "    columns_to_plot = df.filter(regex='^ranges_').columns\n",
    "\n",
    "    # Convert selected columns to numeric\n",
    "    df[columns_to_plot] = df[columns_to_plot].apply(pd.to_numeric, errors='coerce')\n",
    "\n",
    "    data = []\n",
    "\n",
    "    for row_index in range(len(df)):\n",
    "        # Extract data for the specified row and columns\n",
    "        data_to_plot = df.loc[row_index, columns_to_plot]\n",
    "\n",
    "        # Check if data_to_plot is empty or all NaNs\n",
    "        if data_to_plot.isnull().all():\n",
    "            print(f\"No valid data found for Row {row_index}. Radar plot cannot be generated.\")\n",
    "        else:\n",
    "            data_to_plot = np.concatenate((data_to_plot.values, [data_to_plot.values[0]]))\n",
    "            data.append(data_to_plot)\n",
    "\n",
    "    # Number of variables\n",
    "    num_vars = len(columns_to_plot)\n",
    "\n",
    "    # Compute angle for each axis\n",
    "    angles = np.linspace(0, 2 * np.pi, num_vars, endpoint=False).tolist()\n",
    "\n",
    "    # The plot is a circle, so we need to \"complete the loop\" and append the start value to the end.\n",
    "    angles += angles[:1]\n",
    "\n",
    "    return num_vars, angles, data"
   ]
  },
  {
   "cell_type": "code",
   "execution_count": 8,
   "metadata": {},
   "outputs": [],
   "source": [
    "def radar_animation(df):\n",
    "    num_vars, angles, data = radar_data(df)\n",
    "\n",
    "    # Plotting radar plot\n",
    "    fig, ax = plt.subplots(figsize=(8, 6), subplot_kw=dict(polar=True))\n",
    "    # ax.fill(angles, data_to_plot, color='blue', alpha=0.25)\n",
    "    ax.set_theta_offset(np.pi / 2)\n",
    "    ax.set_yticklabels([])  # Hide radial ticks\n",
    "\n",
    "    def update_frame(frame):\n",
    "        ax.clear()\n",
    "        ax.set_theta_offset(np.pi / 2)\n",
    "        ax.set_yticklabels([])\n",
    "        ax.set_title(f'Radar Plot of ColumnX for Row {frame}', fontsize=12, fontweight='bold', pad=20)  # Title of the plot\n",
    "        \n",
    "        values = data[frame]\n",
    "\n",
    "        # Plot data\n",
    "        ax.fill(angles, values, color='blue', alpha=0.25)\n",
    "        ax.plot(angles, values, color='blue', linewidth=2)\n",
    "\n",
    "    anim = FuncAnimation(fig, update_frame, frames=num_vars, interval=100)\n",
    "    anim.save('radar_plot_2.gif', writer = 'ffmpeg', fps = 30)\n",
    "\n",
    "# radar_animation(merged_df) # saved animation in radar_plot.gif"
   ]
  },
  {
   "cell_type": "markdown",
   "metadata": {},
   "source": [
    "## Switching to cartesian coordinates"
   ]
  },
  {
   "cell_type": "code",
   "execution_count": 9,
   "metadata": {},
   "outputs": [],
   "source": [
    "# TRIAL: converting polar coordinates to carterian coordinates\n",
    "num_vars, angles, data = radar_data(merged_df)\n",
    "\n",
    "def cartesian_plot(index):\n",
    "    r = np.array(data[index])\n",
    "    theta = np.array(angles) + np.pi/2\n",
    "\n",
    "    x = r * np.cos(theta)\n",
    "    y = r * np.sin(theta)\n",
    "\n",
    "    fig, ax = plt.subplots(figsize=(6, 6))\n",
    "    ax.scatter(x, y, color='blue')\n",
    "\n",
    "    plt.axhline(0, color='gray', lw=0.5)\n",
    "    plt.axvline(0, color='gray', lw=0.5)\n",
    "    plt.grid(True)\n",
    "    plt.xlabel('X')\n",
    "    plt.ylabel('Y')\n",
    "    plt.title(f'Cartesian Scatter for Row {index}')\n",
    "    plt.show()\n",
    "\n",
    "    fig, ax = plt.subplots(figsize=(8, 6), subplot_kw=dict(polar=True))\n",
    "    ax.set_theta_offset(np.pi / 2)\n",
    "    ax.set_yticklabels([])  # Hide radial ticks\n",
    "    ax.fill(angles, r, color='blue', alpha=0.25)\n",
    "    ax.plot(angles, r, color='blue', linewidth=2)\n",
    "    plt.show()\n",
    "\n",
    "# cartesian_plot(0)\n",
    "# cartesian_plot(180)"
   ]
  },
  {
   "cell_type": "code",
   "execution_count": 10,
   "metadata": {},
   "outputs": [
    {
     "data": {
      "image/png": "[encoded data removed]",
      "text/plain": [
       "<Figure size 600x600 with 1 Axes>"
      ]
     },
     "metadata": {},
     "output_type": "display_data"
    }
   ],
   "source": [
    "num_vars, angles, data = radar_data(merged_df)\n",
    "\n",
    "pos_x = merged_df['position_x']\n",
    "pos_y = merged_df['position_y']\n",
    "pos_z = merged_df['position_z']\n",
    "\n",
    "orient_x = merged_df['orientation_x']\n",
    "orient_y = merged_df['orientation_y']\n",
    "orient_z = merged_df['orientation_z']\n",
    "orient_w = merged_df['orientation_w']\n",
    "\n",
    "def sensor_to_world_frame(index):\n",
    "    r = np.array(data[index])\n",
    "    theta = np.array(angles) + np.pi/2\n",
    "\n",
    "    # converting polar coordinates to cartesian coordinates\n",
    "    x = r * np.cos(theta)\n",
    "    y = r * np.sin(theta)\n",
    "\n",
    "    # retrieving rotation matrix from quaternion measurement values\n",
    "    rot = R.from_quat([orient_x[index], orient_y[index], orient_z[index], orient_w[index]])\n",
    "\n",
    "    # converting sensor frame measurements to world frame measurements\n",
    "\n",
    "    # rotation\n",
    "    pts_vector = np.array([x[:-1], y[:-1], np.ones((num_vars))])  # remember data has +1 element due to completing radar circle\n",
    "    pts_rotated = rot.as_matrix() @ pts_vector\n",
    "    x, y, _ = pts_rotated\n",
    "\n",
    "    # translation\n",
    "    x -= pos_y.iloc[index]\n",
    "    y += pos_x.iloc[index]\n",
    "\n",
    "    return x, y\n",
    "\n",
    "pts_x = np.array([]) # still includes nan values\n",
    "pts_y = np.array([]) # still includes nan values\n",
    "# converting all data to world frame\n",
    "for i in range(len(data)):\n",
    "    x, y = sensor_to_world_frame(i)\n",
    "    pts_x = np.append(pts_x, x)\n",
    "    pts_y = np.append(pts_y, y)\n",
    "\n",
    "# plotting final map\n",
    "fig, ax = plt.subplots(figsize=(6, 6))\n",
    "ax.scatter(pts_x, pts_y, color='blue', s=15)\n",
    "\n",
    "plt.axhline(0, color='gray', lw=0.5)\n",
    "plt.axvline(0, color='gray', lw=0.5)\n",
    "plt.grid(True)\n",
    "plt.xlabel('X')\n",
    "plt.ylabel('Y')\n",
    "plt.title(f'Cartesian Scatter')\n",
    "plt.show()"
   ]
  },
  {
   "cell_type": "markdown",
   "metadata": {},
   "source": [
    "# DBSCAN"
   ]
  },
  {
   "cell_type": "code",
   "execution_count": 11,
   "metadata": {},
   "outputs": [],
   "source": [
    "# Data Transformation\n",
    "points = np.column_stack((pts_x, pts_y))\n",
    "\n",
    "finite_mask = np.isfinite(points)\n",
    "max_finite_value = np.max(points[finite_mask])\n",
    "min_finite_value = np.min(points[finite_mask])\n",
    "points[np.isposinf(points)] = max_finite_value\n",
    "points[np.isneginf(points)] = min_finite_value\n",
    "\n",
    "points = points[~np.isnan(points).any(axis=1)]\n"
   ]
  },
  {
   "cell_type": "code",
   "execution_count": 12,
   "metadata": {},
   "outputs": [
    {
     "ename": "",
     "evalue": "",
     "output_type": "error",
     "traceback": [
      "\u001b[1;31mThe Kernel crashed while executing code in the current cell or a previous cell. \n",
      "\u001b[1;31mPlease review the code in the cell(s) to identify a possible cause of the failure. \n",
      "\u001b[1;31mClick <a href='https://aka.ms/vscodeJupyterKernelCrash'>here</a> for more info. \n",
      "\u001b[1;31mView Jupyter <a href='command:jupyter.viewOutput'>log</a> for further details."
     ]
    }
   ],
   "source": [
    "from sklearn.cluster import DBSCAN\n",
    "\n",
    "BEST_EPS = 0.7\n",
    "BEST_POINTS = 3\n",
    "\n",
    "dbscan = DBSCAN(eps=BEST_EPS, min_samples=BEST_POINTS)\n",
    "labels = dbscan.fit_predict(points)"
   ]
  },
  {
   "cell_type": "code",
   "execution_count": 18,
   "metadata": {},
   "outputs": [
    {
     "data": {
      "image/png": "[encoded data removed]",
      "text/plain": [
       "<Figure size 640x480 with 1 Axes>"
      ]
     },
     "metadata": {},
     "output_type": "display_data"
    }
   ],
   "source": [
    "from sklearn.neighbors import NearestNeighbors\n",
    "from sklearn.cluster import DBSCAN\n",
    "from sklearn.metrics import silhouette_score\n",
    "\n",
    "# Step 1: K-Distance Graph\n",
    "def plot_k_distance_graph(points, k):\n",
    "    neighbors = NearestNeighbors(n_neighbors=k)\n",
    "    neighbors_fit = neighbors.fit(points)\n",
    "    distances, indices = neighbors_fit.kneighbors(points)\n",
    "    distances = np.sort(distances[:, k-1], axis=0)\n",
    "    plt.plot(distances)\n",
    "    plt.ylabel('Distance')\n",
    "    plt.xlabel('Points')\n",
    "    plt.title('K-Distance Graph')\n",
    "    plt.show()\n",
    "\n",
    "# Plot the k-distance graph to determine ε\n",
    "plot_k_distance_graph(points, k=4)\n"
   ]
  },
  {
   "cell_type": "code",
   "execution_count": 20,
   "metadata": {},
   "outputs": [
    {
     "name": "stderr",
     "output_type": "stream",
     "text": [
      "  0%|          | 0/10 [00:21<?, ?it/s]\n"
     ]
    },
    {
     "ename": "KeyboardInterrupt",
     "evalue": "",
     "output_type": "error",
     "traceback": [
      "\u001b[0;31m---------------------------------------------------------------------------\u001b[0m",
      "\u001b[0;31mKeyboardInterrupt\u001b[0m                         Traceback (most recent call last)",
      "Cell \u001b[0;32mIn[20], line 21\u001b[0m\n\u001b[1;32m     18\u001b[0m min_samples_values \u001b[38;5;241m=\u001b[39m \u001b[38;5;28mrange\u001b[39m(\u001b[38;5;241m3\u001b[39m, \u001b[38;5;241m10\u001b[39m)\n\u001b[1;32m     20\u001b[0m \u001b[38;5;66;03m# Find the optimal parameters\u001b[39;00m\n\u001b[0;32m---> 21\u001b[0m best_params, best_score \u001b[38;5;241m=\u001b[39m \u001b[43mfind_optimal_dbscan\u001b[49m\u001b[43m(\u001b[49m\u001b[43mpoints\u001b[49m\u001b[43m,\u001b[49m\u001b[43m \u001b[49m\u001b[43meps_values\u001b[49m\u001b[43m,\u001b[49m\u001b[43m \u001b[49m\u001b[43mmin_samples_values\u001b[49m\u001b[43m)\u001b[49m\n\u001b[1;32m     23\u001b[0m \u001b[38;5;28mprint\u001b[39m(\u001b[38;5;124mf\u001b[39m\u001b[38;5;124m\"\u001b[39m\u001b[38;5;124mOptimal ε: \u001b[39m\u001b[38;5;132;01m{\u001b[39;00mbest_params[\u001b[38;5;241m0\u001b[39m]\u001b[38;5;132;01m}\u001b[39;00m\u001b[38;5;124m\"\u001b[39m)\n\u001b[1;32m     24\u001b[0m \u001b[38;5;28mprint\u001b[39m(\u001b[38;5;124mf\u001b[39m\u001b[38;5;124m\"\u001b[39m\u001b[38;5;124mOptimal min_samples: \u001b[39m\u001b[38;5;132;01m{\u001b[39;00mbest_params[\u001b[38;5;241m1\u001b[39m]\u001b[38;5;132;01m}\u001b[39;00m\u001b[38;5;124m\"\u001b[39m)\n",
      "Cell \u001b[0;32mIn[20], line 10\u001b[0m, in \u001b[0;36mfind_optimal_dbscan\u001b[0;34m(points, eps_values, min_samples_values)\u001b[0m\n\u001b[1;32m      8\u001b[0m labels \u001b[38;5;241m=\u001b[39m dbscan\u001b[38;5;241m.\u001b[39mfit_predict(points)\n\u001b[1;32m      9\u001b[0m \u001b[38;5;28;01mif\u001b[39;00m \u001b[38;5;28mlen\u001b[39m(\u001b[38;5;28mset\u001b[39m(labels)) \u001b[38;5;241m>\u001b[39m \u001b[38;5;241m1\u001b[39m:\n\u001b[0;32m---> 10\u001b[0m     score \u001b[38;5;241m=\u001b[39m \u001b[43msilhouette_score\u001b[49m\u001b[43m(\u001b[49m\u001b[43mpoints\u001b[49m\u001b[43m,\u001b[49m\u001b[43m \u001b[49m\u001b[43mlabels\u001b[49m\u001b[43m)\u001b[49m\n\u001b[1;32m     11\u001b[0m     \u001b[38;5;28;01mif\u001b[39;00m score \u001b[38;5;241m>\u001b[39m best_score:\n\u001b[1;32m     12\u001b[0m         best_score \u001b[38;5;241m=\u001b[39m score\n",
      "File \u001b[0;32m~/anaconda3/envs/ml_project/lib/python3.11/site-packages/sklearn/utils/_param_validation.py:213\u001b[0m, in \u001b[0;36mvalidate_params.<locals>.decorator.<locals>.wrapper\u001b[0;34m(*args, **kwargs)\u001b[0m\n\u001b[1;32m    207\u001b[0m \u001b[38;5;28;01mtry\u001b[39;00m:\n\u001b[1;32m    208\u001b[0m     \u001b[38;5;28;01mwith\u001b[39;00m config_context(\n\u001b[1;32m    209\u001b[0m         skip_parameter_validation\u001b[38;5;241m=\u001b[39m(\n\u001b[1;32m    210\u001b[0m             prefer_skip_nested_validation \u001b[38;5;129;01mor\u001b[39;00m global_skip_validation\n\u001b[1;32m    211\u001b[0m         )\n\u001b[1;32m    212\u001b[0m     ):\n\u001b[0;32m--> 213\u001b[0m         \u001b[38;5;28;01mreturn\u001b[39;00m \u001b[43mfunc\u001b[49m\u001b[43m(\u001b[49m\u001b[38;5;241;43m*\u001b[39;49m\u001b[43margs\u001b[49m\u001b[43m,\u001b[49m\u001b[43m \u001b[49m\u001b[38;5;241;43m*\u001b[39;49m\u001b[38;5;241;43m*\u001b[39;49m\u001b[43mkwargs\u001b[49m\u001b[43m)\u001b[49m\n\u001b[1;32m    214\u001b[0m \u001b[38;5;28;01mexcept\u001b[39;00m InvalidParameterError \u001b[38;5;28;01mas\u001b[39;00m e:\n\u001b[1;32m    215\u001b[0m     \u001b[38;5;66;03m# When the function is just a wrapper around an estimator, we allow\u001b[39;00m\n\u001b[1;32m    216\u001b[0m     \u001b[38;5;66;03m# the function to delegate validation to the estimator, but we replace\u001b[39;00m\n\u001b[1;32m    217\u001b[0m     \u001b[38;5;66;03m# the name of the estimator by the name of the function in the error\u001b[39;00m\n\u001b[1;32m    218\u001b[0m     \u001b[38;5;66;03m# message to avoid confusion.\u001b[39;00m\n\u001b[1;32m    219\u001b[0m     msg \u001b[38;5;241m=\u001b[39m re\u001b[38;5;241m.\u001b[39msub(\n\u001b[1;32m    220\u001b[0m         \u001b[38;5;124mr\u001b[39m\u001b[38;5;124m\"\u001b[39m\u001b[38;5;124mparameter of \u001b[39m\u001b[38;5;124m\\\u001b[39m\u001b[38;5;124mw+ must be\u001b[39m\u001b[38;5;124m\"\u001b[39m,\n\u001b[1;32m    221\u001b[0m         \u001b[38;5;124mf\u001b[39m\u001b[38;5;124m\"\u001b[39m\u001b[38;5;124mparameter of \u001b[39m\u001b[38;5;132;01m{\u001b[39;00mfunc\u001b[38;5;241m.\u001b[39m\u001b[38;5;18m__qualname__\u001b[39m\u001b[38;5;132;01m}\u001b[39;00m\u001b[38;5;124m must be\u001b[39m\u001b[38;5;124m\"\u001b[39m,\n\u001b[1;32m    222\u001b[0m         \u001b[38;5;28mstr\u001b[39m(e),\n\u001b[1;32m    223\u001b[0m     )\n",
      "File \u001b[0;32m~/anaconda3/envs/ml_project/lib/python3.11/site-packages/sklearn/metrics/cluster/_unsupervised.py:141\u001b[0m, in \u001b[0;36msilhouette_score\u001b[0;34m(X, labels, metric, sample_size, random_state, **kwds)\u001b[0m\n\u001b[1;32m    139\u001b[0m     \u001b[38;5;28;01melse\u001b[39;00m:\n\u001b[1;32m    140\u001b[0m         X, labels \u001b[38;5;241m=\u001b[39m X[indices], labels[indices]\n\u001b[0;32m--> 141\u001b[0m \u001b[38;5;28;01mreturn\u001b[39;00m np\u001b[38;5;241m.\u001b[39mmean(\u001b[43msilhouette_samples\u001b[49m\u001b[43m(\u001b[49m\u001b[43mX\u001b[49m\u001b[43m,\u001b[49m\u001b[43m \u001b[49m\u001b[43mlabels\u001b[49m\u001b[43m,\u001b[49m\u001b[43m \u001b[49m\u001b[43mmetric\u001b[49m\u001b[38;5;241;43m=\u001b[39;49m\u001b[43mmetric\u001b[49m\u001b[43m,\u001b[49m\u001b[43m \u001b[49m\u001b[38;5;241;43m*\u001b[39;49m\u001b[38;5;241;43m*\u001b[39;49m\u001b[43mkwds\u001b[49m\u001b[43m)\u001b[49m)\n",
      "File \u001b[0;32m~/anaconda3/envs/ml_project/lib/python3.11/site-packages/sklearn/utils/_param_validation.py:186\u001b[0m, in \u001b[0;36mvalidate_params.<locals>.decorator.<locals>.wrapper\u001b[0;34m(*args, **kwargs)\u001b[0m\n\u001b[1;32m    184\u001b[0m global_skip_validation \u001b[38;5;241m=\u001b[39m get_config()[\u001b[38;5;124m\"\u001b[39m\u001b[38;5;124mskip_parameter_validation\u001b[39m\u001b[38;5;124m\"\u001b[39m]\n\u001b[1;32m    185\u001b[0m \u001b[38;5;28;01mif\u001b[39;00m global_skip_validation:\n\u001b[0;32m--> 186\u001b[0m     \u001b[38;5;28;01mreturn\u001b[39;00m \u001b[43mfunc\u001b[49m\u001b[43m(\u001b[49m\u001b[38;5;241;43m*\u001b[39;49m\u001b[43margs\u001b[49m\u001b[43m,\u001b[49m\u001b[43m \u001b[49m\u001b[38;5;241;43m*\u001b[39;49m\u001b[38;5;241;43m*\u001b[39;49m\u001b[43mkwargs\u001b[49m\u001b[43m)\u001b[49m\n\u001b[1;32m    188\u001b[0m func_sig \u001b[38;5;241m=\u001b[39m signature(func)\n\u001b[1;32m    190\u001b[0m \u001b[38;5;66;03m# Map *args/**kwargs to the function signature\u001b[39;00m\n",
      "File \u001b[0;32m~/anaconda3/envs/ml_project/lib/python3.11/site-packages/sklearn/metrics/cluster/_unsupervised.py:305\u001b[0m, in \u001b[0;36msilhouette_samples\u001b[0;34m(X, labels, metric, **kwds)\u001b[0m\n\u001b[1;32m    301\u001b[0m kwds[\u001b[38;5;124m\"\u001b[39m\u001b[38;5;124mmetric\u001b[39m\u001b[38;5;124m\"\u001b[39m] \u001b[38;5;241m=\u001b[39m metric\n\u001b[1;32m    302\u001b[0m reduce_func \u001b[38;5;241m=\u001b[39m functools\u001b[38;5;241m.\u001b[39mpartial(\n\u001b[1;32m    303\u001b[0m     _silhouette_reduce, labels\u001b[38;5;241m=\u001b[39mlabels, label_freqs\u001b[38;5;241m=\u001b[39mlabel_freqs\n\u001b[1;32m    304\u001b[0m )\n\u001b[0;32m--> 305\u001b[0m results \u001b[38;5;241m=\u001b[39m \u001b[38;5;28;43mzip\u001b[39;49m\u001b[43m(\u001b[49m\u001b[38;5;241;43m*\u001b[39;49m\u001b[43mpairwise_distances_chunked\u001b[49m\u001b[43m(\u001b[49m\u001b[43mX\u001b[49m\u001b[43m,\u001b[49m\u001b[43m \u001b[49m\u001b[43mreduce_func\u001b[49m\u001b[38;5;241;43m=\u001b[39;49m\u001b[43mreduce_func\u001b[49m\u001b[43m,\u001b[49m\u001b[43m \u001b[49m\u001b[38;5;241;43m*\u001b[39;49m\u001b[38;5;241;43m*\u001b[39;49m\u001b[43mkwds\u001b[49m\u001b[43m)\u001b[49m\u001b[43m)\u001b[49m\n\u001b[1;32m    306\u001b[0m intra_clust_dists, inter_clust_dists \u001b[38;5;241m=\u001b[39m results\n\u001b[1;32m    307\u001b[0m intra_clust_dists \u001b[38;5;241m=\u001b[39m np\u001b[38;5;241m.\u001b[39mconcatenate(intra_clust_dists)\n",
      "File \u001b[0;32m~/anaconda3/envs/ml_project/lib/python3.11/site-packages/sklearn/metrics/pairwise.py:2172\u001b[0m, in \u001b[0;36mpairwise_distances_chunked\u001b[0;34m(X, Y, reduce_func, metric, n_jobs, working_memory, **kwds)\u001b[0m\n\u001b[1;32m   2170\u001b[0m \u001b[38;5;28;01melse\u001b[39;00m:\n\u001b[1;32m   2171\u001b[0m     X_chunk \u001b[38;5;241m=\u001b[39m X[sl]\n\u001b[0;32m-> 2172\u001b[0m D_chunk \u001b[38;5;241m=\u001b[39m \u001b[43mpairwise_distances\u001b[49m\u001b[43m(\u001b[49m\u001b[43mX_chunk\u001b[49m\u001b[43m,\u001b[49m\u001b[43m \u001b[49m\u001b[43mY\u001b[49m\u001b[43m,\u001b[49m\u001b[43m \u001b[49m\u001b[43mmetric\u001b[49m\u001b[38;5;241;43m=\u001b[39;49m\u001b[43mmetric\u001b[49m\u001b[43m,\u001b[49m\u001b[43m \u001b[49m\u001b[43mn_jobs\u001b[49m\u001b[38;5;241;43m=\u001b[39;49m\u001b[43mn_jobs\u001b[49m\u001b[43m,\u001b[49m\u001b[43m \u001b[49m\u001b[38;5;241;43m*\u001b[39;49m\u001b[38;5;241;43m*\u001b[39;49m\u001b[43mkwds\u001b[49m\u001b[43m)\u001b[49m\n\u001b[1;32m   2173\u001b[0m \u001b[38;5;28;01mif\u001b[39;00m (X \u001b[38;5;129;01mis\u001b[39;00m Y \u001b[38;5;129;01mor\u001b[39;00m Y \u001b[38;5;129;01mis\u001b[39;00m \u001b[38;5;28;01mNone\u001b[39;00m) \u001b[38;5;129;01mand\u001b[39;00m PAIRWISE_DISTANCE_FUNCTIONS\u001b[38;5;241m.\u001b[39mget(\n\u001b[1;32m   2174\u001b[0m     metric, \u001b[38;5;28;01mNone\u001b[39;00m\n\u001b[1;32m   2175\u001b[0m ) \u001b[38;5;129;01mis\u001b[39;00m euclidean_distances:\n\u001b[1;32m   2176\u001b[0m     \u001b[38;5;66;03m# zeroing diagonal, taking care of aliases of \"euclidean\",\u001b[39;00m\n\u001b[1;32m   2177\u001b[0m     \u001b[38;5;66;03m# i.e. \"l2\"\u001b[39;00m\n\u001b[1;32m   2178\u001b[0m     D_chunk\u001b[38;5;241m.\u001b[39mflat[sl\u001b[38;5;241m.\u001b[39mstart :: _num_samples(X) \u001b[38;5;241m+\u001b[39m \u001b[38;5;241m1\u001b[39m] \u001b[38;5;241m=\u001b[39m \u001b[38;5;241m0\u001b[39m\n",
      "File \u001b[0;32m~/anaconda3/envs/ml_project/lib/python3.11/site-packages/sklearn/utils/_param_validation.py:186\u001b[0m, in \u001b[0;36mvalidate_params.<locals>.decorator.<locals>.wrapper\u001b[0;34m(*args, **kwargs)\u001b[0m\n\u001b[1;32m    184\u001b[0m global_skip_validation \u001b[38;5;241m=\u001b[39m get_config()[\u001b[38;5;124m\"\u001b[39m\u001b[38;5;124mskip_parameter_validation\u001b[39m\u001b[38;5;124m\"\u001b[39m]\n\u001b[1;32m    185\u001b[0m \u001b[38;5;28;01mif\u001b[39;00m global_skip_validation:\n\u001b[0;32m--> 186\u001b[0m     \u001b[38;5;28;01mreturn\u001b[39;00m \u001b[43mfunc\u001b[49m\u001b[43m(\u001b[49m\u001b[38;5;241;43m*\u001b[39;49m\u001b[43margs\u001b[49m\u001b[43m,\u001b[49m\u001b[43m \u001b[49m\u001b[38;5;241;43m*\u001b[39;49m\u001b[38;5;241;43m*\u001b[39;49m\u001b[43mkwargs\u001b[49m\u001b[43m)\u001b[49m\n\u001b[1;32m    188\u001b[0m func_sig \u001b[38;5;241m=\u001b[39m signature(func)\n\u001b[1;32m    190\u001b[0m \u001b[38;5;66;03m# Map *args/**kwargs to the function signature\u001b[39;00m\n",
      "File \u001b[0;32m~/anaconda3/envs/ml_project/lib/python3.11/site-packages/sklearn/metrics/pairwise.py:2375\u001b[0m, in \u001b[0;36mpairwise_distances\u001b[0;34m(X, Y, metric, n_jobs, force_all_finite, **kwds)\u001b[0m\n\u001b[1;32m   2372\u001b[0m         \u001b[38;5;28;01mreturn\u001b[39;00m distance\u001b[38;5;241m.\u001b[39msquareform(distance\u001b[38;5;241m.\u001b[39mpdist(X, metric\u001b[38;5;241m=\u001b[39mmetric, \u001b[38;5;241m*\u001b[39m\u001b[38;5;241m*\u001b[39mkwds))\n\u001b[1;32m   2373\u001b[0m     func \u001b[38;5;241m=\u001b[39m partial(distance\u001b[38;5;241m.\u001b[39mcdist, metric\u001b[38;5;241m=\u001b[39mmetric, \u001b[38;5;241m*\u001b[39m\u001b[38;5;241m*\u001b[39mkwds)\n\u001b[0;32m-> 2375\u001b[0m \u001b[38;5;28;01mreturn\u001b[39;00m \u001b[43m_parallel_pairwise\u001b[49m\u001b[43m(\u001b[49m\u001b[43mX\u001b[49m\u001b[43m,\u001b[49m\u001b[43m \u001b[49m\u001b[43mY\u001b[49m\u001b[43m,\u001b[49m\u001b[43m \u001b[49m\u001b[43mfunc\u001b[49m\u001b[43m,\u001b[49m\u001b[43m \u001b[49m\u001b[43mn_jobs\u001b[49m\u001b[43m,\u001b[49m\u001b[43m \u001b[49m\u001b[38;5;241;43m*\u001b[39;49m\u001b[38;5;241;43m*\u001b[39;49m\u001b[43mkwds\u001b[49m\u001b[43m)\u001b[49m\n",
      "File \u001b[0;32m~/anaconda3/envs/ml_project/lib/python3.11/site-packages/sklearn/metrics/pairwise.py:1893\u001b[0m, in \u001b[0;36m_parallel_pairwise\u001b[0;34m(X, Y, func, n_jobs, **kwds)\u001b[0m\n\u001b[1;32m   1890\u001b[0m X, Y, dtype \u001b[38;5;241m=\u001b[39m _return_float_dtype(X, Y)\n\u001b[1;32m   1892\u001b[0m \u001b[38;5;28;01mif\u001b[39;00m effective_n_jobs(n_jobs) \u001b[38;5;241m==\u001b[39m \u001b[38;5;241m1\u001b[39m:\n\u001b[0;32m-> 1893\u001b[0m     \u001b[38;5;28;01mreturn\u001b[39;00m \u001b[43mfunc\u001b[49m\u001b[43m(\u001b[49m\u001b[43mX\u001b[49m\u001b[43m,\u001b[49m\u001b[43m \u001b[49m\u001b[43mY\u001b[49m\u001b[43m,\u001b[49m\u001b[43m \u001b[49m\u001b[38;5;241;43m*\u001b[39;49m\u001b[38;5;241;43m*\u001b[39;49m\u001b[43mkwds\u001b[49m\u001b[43m)\u001b[49m\n\u001b[1;32m   1895\u001b[0m \u001b[38;5;66;03m# enforce a threading backend to prevent data communication overhead\u001b[39;00m\n\u001b[1;32m   1896\u001b[0m fd \u001b[38;5;241m=\u001b[39m delayed(_dist_wrapper)\n",
      "File \u001b[0;32m~/anaconda3/envs/ml_project/lib/python3.11/site-packages/sklearn/utils/_param_validation.py:186\u001b[0m, in \u001b[0;36mvalidate_params.<locals>.decorator.<locals>.wrapper\u001b[0;34m(*args, **kwargs)\u001b[0m\n\u001b[1;32m    184\u001b[0m global_skip_validation \u001b[38;5;241m=\u001b[39m get_config()[\u001b[38;5;124m\"\u001b[39m\u001b[38;5;124mskip_parameter_validation\u001b[39m\u001b[38;5;124m\"\u001b[39m]\n\u001b[1;32m    185\u001b[0m \u001b[38;5;28;01mif\u001b[39;00m global_skip_validation:\n\u001b[0;32m--> 186\u001b[0m     \u001b[38;5;28;01mreturn\u001b[39;00m \u001b[43mfunc\u001b[49m\u001b[43m(\u001b[49m\u001b[38;5;241;43m*\u001b[39;49m\u001b[43margs\u001b[49m\u001b[43m,\u001b[49m\u001b[43m \u001b[49m\u001b[38;5;241;43m*\u001b[39;49m\u001b[38;5;241;43m*\u001b[39;49m\u001b[43mkwargs\u001b[49m\u001b[43m)\u001b[49m\n\u001b[1;32m    188\u001b[0m func_sig \u001b[38;5;241m=\u001b[39m signature(func)\n\u001b[1;32m    190\u001b[0m \u001b[38;5;66;03m# Map *args/**kwargs to the function signature\u001b[39;00m\n",
      "File \u001b[0;32m~/anaconda3/envs/ml_project/lib/python3.11/site-packages/sklearn/metrics/pairwise.py:372\u001b[0m, in \u001b[0;36meuclidean_distances\u001b[0;34m(X, Y, Y_norm_squared, squared, X_norm_squared)\u001b[0m\n\u001b[1;32m    366\u001b[0m     \u001b[38;5;28;01mif\u001b[39;00m Y_norm_squared\u001b[38;5;241m.\u001b[39mshape \u001b[38;5;241m!=\u001b[39m (\u001b[38;5;241m1\u001b[39m, Y\u001b[38;5;241m.\u001b[39mshape[\u001b[38;5;241m0\u001b[39m]):\n\u001b[1;32m    367\u001b[0m         \u001b[38;5;28;01mraise\u001b[39;00m \u001b[38;5;167;01mValueError\u001b[39;00m(\n\u001b[1;32m    368\u001b[0m             \u001b[38;5;124mf\u001b[39m\u001b[38;5;124m\"\u001b[39m\u001b[38;5;124mIncompatible dimensions for Y of shape \u001b[39m\u001b[38;5;132;01m{\u001b[39;00mY\u001b[38;5;241m.\u001b[39mshape\u001b[38;5;132;01m}\u001b[39;00m\u001b[38;5;124m and \u001b[39m\u001b[38;5;124m\"\u001b[39m\n\u001b[1;32m    369\u001b[0m             \u001b[38;5;124mf\u001b[39m\u001b[38;5;124m\"\u001b[39m\u001b[38;5;124mY_norm_squared of shape \u001b[39m\u001b[38;5;132;01m{\u001b[39;00moriginal_shape\u001b[38;5;132;01m}\u001b[39;00m\u001b[38;5;124m.\u001b[39m\u001b[38;5;124m\"\u001b[39m\n\u001b[1;32m    370\u001b[0m         )\n\u001b[0;32m--> 372\u001b[0m \u001b[38;5;28;01mreturn\u001b[39;00m \u001b[43m_euclidean_distances\u001b[49m\u001b[43m(\u001b[49m\u001b[43mX\u001b[49m\u001b[43m,\u001b[49m\u001b[43m \u001b[49m\u001b[43mY\u001b[49m\u001b[43m,\u001b[49m\u001b[43m \u001b[49m\u001b[43mX_norm_squared\u001b[49m\u001b[43m,\u001b[49m\u001b[43m \u001b[49m\u001b[43mY_norm_squared\u001b[49m\u001b[43m,\u001b[49m\u001b[43m \u001b[49m\u001b[43msquared\u001b[49m\u001b[43m)\u001b[49m\n",
      "File \u001b[0;32m~/anaconda3/envs/ml_project/lib/python3.11/site-packages/sklearn/metrics/pairwise.py:410\u001b[0m, in \u001b[0;36m_euclidean_distances\u001b[0;34m(X, Y, X_norm_squared, Y_norm_squared, squared)\u001b[0m\n\u001b[1;32m    408\u001b[0m     distances \u001b[38;5;241m+\u001b[39m\u001b[38;5;241m=\u001b[39m XX\n\u001b[1;32m    409\u001b[0m     distances \u001b[38;5;241m+\u001b[39m\u001b[38;5;241m=\u001b[39m YY\n\u001b[0;32m--> 410\u001b[0m \u001b[43mnp\u001b[49m\u001b[38;5;241;43m.\u001b[39;49m\u001b[43mmaximum\u001b[49m\u001b[43m(\u001b[49m\u001b[43mdistances\u001b[49m\u001b[43m,\u001b[49m\u001b[43m \u001b[49m\u001b[38;5;241;43m0\u001b[39;49m\u001b[43m,\u001b[49m\u001b[43m \u001b[49m\u001b[43mout\u001b[49m\u001b[38;5;241;43m=\u001b[39;49m\u001b[43mdistances\u001b[49m\u001b[43m)\u001b[49m\n\u001b[1;32m    412\u001b[0m \u001b[38;5;66;03m# Ensure that distances between vectors and themselves are set to 0.0.\u001b[39;00m\n\u001b[1;32m    413\u001b[0m \u001b[38;5;66;03m# This may not be the case due to floating point rounding errors.\u001b[39;00m\n\u001b[1;32m    414\u001b[0m \u001b[38;5;28;01mif\u001b[39;00m X \u001b[38;5;129;01mis\u001b[39;00m Y:\n",
      "\u001b[0;31mKeyboardInterrupt\u001b[0m: "
     ]
    }
   ],
   "source": [
    "# Step 2: Experiment with DBSCAN\n",
    "def find_optimal_dbscan(points, eps_values, min_samples_values):\n",
    "    best_score = -1\n",
    "    best_params = None\n",
    "    for eps in tqdm.tqdm(eps_values):\n",
    "        for min_samples in min_samples_values:\n",
    "            dbscan = DBSCAN(eps=eps, min_samples=min_samples)\n",
    "            labels = dbscan.fit_predict(points)\n",
    "            if len(set(labels)) > 1:\n",
    "                score = silhouette_score(points, labels)\n",
    "                if score > best_score:\n",
    "                    best_score = score\n",
    "                    best_params = (eps, min_samples)\n",
    "    return best_params, best_score\n",
    "\n",
    "# Define ranges for eps and min_samples\n",
    "eps_values = np.linspace(0.1, 1.0, 10)\n",
    "min_samples_values = range(3, 10)\n",
    "\n",
    "# Find the optimal parameters\n",
    "best_params, best_score = find_optimal_dbscan(points, eps_values, min_samples_values)\n",
    "\n",
    "print(f\"Optimal ε: {best_params[0]}\")\n",
    "print(f\"Optimal min_samples: {best_params[1]}\")\n",
    "print(f\"Best silhouette score: {best_score}\")\n",
    "\n",
    "# Fit DBSCAN with the optimal parameters\n",
    "dbscan = DBSCAN(eps=best_params[0], min_samples=best_params[1])\n",
    "labels = dbscan.fit_predict(points)\n",
    "\n",
    "# Plot the resulting clusters\n",
    "plt.scatter(points[:, 0], points[:, 1], c=labels, cmap='plasma')\n",
    "plt.xlabel('X')\n",
    "plt.ylabel('Y')\n",
    "plt.title('DBSCAN Clustering')\n",
    "plt.show()\n"
   ]
  },
  {
   "cell_type": "code",
   "execution_count": 22,
   "metadata": {},
   "outputs": [
    {
     "ename": "TypeError",
     "evalue": "DBSCAN.__init__() got an unexpected keyword argument 'min_samples'",
     "output_type": "error",
     "traceback": [
      "\u001b[0;31m---------------------------------------------------------------------------\u001b[0m",
      "\u001b[0;31mTypeError\u001b[0m                                 Traceback (most recent call last)",
      "Cell \u001b[0;32mIn[22], line 17\u001b[0m\n\u001b[1;32m     14\u001b[0m BEST_EPS \u001b[38;5;241m=\u001b[39m \u001b[38;5;241m0.7\u001b[39m\n\u001b[1;32m     15\u001b[0m BEST_POINTS \u001b[38;5;241m=\u001b[39m \u001b[38;5;241m3\u001b[39m\n\u001b[0;32m---> 17\u001b[0m dbscan \u001b[38;5;241m=\u001b[39m \u001b[43mDBSCAN\u001b[49m\u001b[43m(\u001b[49m\u001b[43meps\u001b[49m\u001b[38;5;241;43m=\u001b[39;49m\u001b[43mBEST_EPS\u001b[49m\u001b[43m,\u001b[49m\u001b[43m \u001b[49m\u001b[43mmin_samples\u001b[49m\u001b[38;5;241;43m=\u001b[39;49m\u001b[43mBEST_POINTS\u001b[49m\u001b[43m)\u001b[49m\n\u001b[1;32m     18\u001b[0m labels \u001b[38;5;241m=\u001b[39m dbscan\u001b[38;5;241m.\u001b[39mfit_predict(points)\n\u001b[1;32m     20\u001b[0m \u001b[38;5;66;03m# dbscan = DBSCAN(BEST_EPS, BEST_POINTS, points)\u001b[39;00m\n\u001b[1;32m     21\u001b[0m \u001b[38;5;66;03m# cluster_idx = dbscan.fit()\u001b[39;00m\n\u001b[1;32m     22\u001b[0m \u001b[38;5;66;03m# visualise(points, cluster_idx)\u001b[39;00m\n",
      "\u001b[0;31mTypeError\u001b[0m: DBSCAN.__init__() got an unexpected keyword argument 'min_samples'"
     ]
    }
   ],
   "source": [
    "from DBSCAN import DBSCAN\n",
    "\n",
    "def visualise(X, C, K=None):  \n",
    "    '''\n",
    "    Visualization of clustering.\n",
    "    '''\n",
    "    fig, ax = plt.subplots()\n",
    "    ax.scatter(X[:, 0], X[:, 1], c=C, cmap=\"rainbow\")\n",
    "    if K:\n",
    "        plt.title(\"Visualization of K = \" + str(K), fontsize=15)\n",
    "    plt.show()\n",
    "    pass\n",
    "\n",
    "BEST_EPS = 0.7\n",
    "BEST_POINTS = 3\n",
    "\n",
    "dbscan = DBSCAN(BEST_EPS, BEST_POINTS, points)\n",
    "cluster_idx = dbscan.fit()\n",
    "visualise(points, cluster_idx)"
   ]
  },
  {
   "cell_type": "code",
   "execution_count": null,
   "metadata": {},
   "outputs": [],
   "source": []
  }
 ],
 "metadata": {
  "kernelspec": {
   "display_name": "ml_project",
   "language": "python",
   "name": "python3"
  },
  "language_info": {
   "codemirror_mode": {
    "name": "ipython",
    "version": 3
   },
   "file_extension": ".py",
   "mimetype": "text/x-python",
   "name": "python",
   "nbconvert_exporter": "python",
   "pygments_lexer": "ipython3",
   "version": "3.11.9"
  }
 },
 "nbformat": 4,
 "nbformat_minor": 2
}
