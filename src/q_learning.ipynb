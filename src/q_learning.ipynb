{
 "cells": [
  {
   "cell_type": "markdown",
   "metadata": {},
   "source": [
    "Q-Learning for path planning and control! This algorithm will simulate a gridmap and utilize reinforcement learning to determine the best path. The path will then be traversed with PID or LQR controllers in a ROS workspace on a Turtlebot3"
   ]
  },
  {
   "cell_type": "markdown",
   "metadata": {},
   "source": [
    "Credit: https://ieeexplore.ieee.org/abstract/document/6573377"
   ]
  },
  {
   "cell_type": "code",
   "execution_count": 83,
   "metadata": {},
   "outputs": [],
   "source": [
    "import numpy as np\n",
    "import random\n",
    "from colorama import init, Fore, Back, Style\n",
    "import matplotlib.pyplot as plt"
   ]
  },
  {
   "cell_type": "markdown",
   "metadata": {},
   "source": [
    "Let's Generate a simulation grid map to test the Q-learner and path planning"
   ]
  },
  {
   "cell_type": "code",
   "execution_count": 183,
   "metadata": {},
   "outputs": [],
   "source": [
    "class GridGenerator:\n",
    "    \n",
    "    # Construct grid generator class\n",
    "    def __init__(self, grid_size, num_obstacles):\n",
    "        self.grid_size = grid_size\n",
    "        self.num_obstacles = num_obstacles\n",
    "        self.grid = np.zeros((self.grid_size, self.grid_size), dtype=int)\n",
    "    \n",
    "    # Generate the random grid\n",
    "    def generate_grid(self):\n",
    "        # Place obstacles randomly\n",
    "        obstacle_positions = random.sample(range(self.grid_size * self.grid_size), self.num_obstacles)\n",
    "        for pos in obstacle_positions:\n",
    "            row = pos // self.grid_size\n",
    "            col = pos % self.grid_size\n",
    "            self.grid[row, col] = -1  # Mark obstacle\n",
    "    \n",
    "    # Generate the starting and stopping states\n",
    "    def generate_states(self):\n",
    "        states = random.sample(range(self.grid_size * self.grid_size), 2)\n",
    "        for i in range(2):\n",
    "            while self.grid[states[i] // self.grid_size, states[i] % self.grid_size] == -1:\n",
    "                states[i] = random.choice(range(self.grid_size * self.grid_size))\n",
    "        \n",
    "        # Assign start and goal states to the grid\n",
    "        start_row = states[0] // self.grid_size\n",
    "        start_col = states[0] % self.grid_size\n",
    "        self.grid[start_row, start_col] = 1\n",
    "        \n",
    "        target_row = states[1] // self.grid_size\n",
    "        target_col = states[1] % self.grid_size\n",
    "        self.grid[target_row, target_col] = 2\n",
    "    \n",
    "    # # Display the grid (ugly right now)\n",
    "    # def print_grid(self):\n",
    "    #     for row in range(self.grid_size):\n",
    "    #         for col in range(self.grid_size):\n",
    "    #             if self.grid[row, col] == -1:\n",
    "    #                 print(\"██\", end=\"\")  # Print obstacle as black square\n",
    "    #             elif self.grid[row, col] == 1:\n",
    "    #                 print(\"S\", end=\"\")  # Print start as 'S'\n",
    "    #             elif self.grid[row, col] == 2:\n",
    "    #                 print(\"G\", end=\"\")  # Print goal as 'G'\n",
    "    #             else:\n",
    "    #                 print(\"  \", end=\" \")  # Print empty space\n",
    "    #         print()  # Move to the next line after each row\n",
    "\n"
   ]
  },
  {
   "cell_type": "markdown",
   "metadata": {},
   "source": [
    "Build the q_learner class"
   ]
  },
  {
   "cell_type": "code",
   "execution_count": 198,
   "metadata": {},
   "outputs": [],
   "source": [
    "class QLearner:\n",
    "    def __init__(self, grid, start, goal, learning_rate, gamma, epsilon):\n",
    "        self.grid = grid\n",
    "        self.start = start\n",
    "        self.goal = goal\n",
    "        self.learning_rate = learning_rate\n",
    "        self.gamma = gamma\n",
    "        self.epsilon = epsilon\n",
    "        self.state_space = grid.shape\n",
    "        self.action_space = 4  # Up, down, left, right\n",
    "        self.q_table = np.zeros((*self.state_space, self.action_space))\n",
    "    \n",
    "    # Generate rewards\n",
    "    def reward(self, state):\n",
    "        if state == self.goal:\n",
    "            return 100  # Large reward for reaching the goal\n",
    "        elif self.grid[state] == -1:\n",
    "            return -100  # Large negative reward for hitting an obstacle\n",
    "        else:\n",
    "            return -1  # Small negative reward for each step to encourage finding the shortest path\n",
    "    \n",
    "    # Generate movements\n",
    "    def state_observation(self, state, action):\n",
    "        row, col = state\n",
    "        if action == 0:  # Up\n",
    "            row -= 1\n",
    "        elif action == 1:  # Down\n",
    "            row += 1\n",
    "        elif action == 2:  # Left\n",
    "            col -= 1\n",
    "        elif action == 3:  # Right\n",
    "            col += 1\n",
    "        \n",
    "        # Ensure new state is within bounds\n",
    "        row = max(0, min(row, self.grid.shape[0] - 1))\n",
    "        col = max(0, min(col, self.grid.shape[1] - 1))\n",
    "        \n",
    "        return (row, col)\n",
    "    \n",
    "    # Main Q-learning update rule\n",
    "    def update_entry(self, state, action):\n",
    "        next_state = self.state_observation(state, action) # what is the next state\n",
    "        reward = self.reward(next_state) # what is the reward of that next state\n",
    "        \n",
    "        # Q-value update rule\n",
    "        best_next_action = np.argmax(self.q_table[next_state]) # what is the best action to take at the next state? (left, right, up, down)\n",
    "        td_target = reward + self.gamma * self.q_table[next_state][best_next_action]\n",
    "        td_error = td_target - self.q_table[state][action]\n",
    "        \n",
    "        self.q_table[state][action] += self.learning_rate * td_error\n",
    "        \n",
    "        return next_state\n",
    "    \n",
    "    # Randomly choose to explore or exploit (random choice of direction vs look at q-table) and return the action\n",
    "    def choose_action(self, state):\n",
    "        if random.uniform(0, 1) < self.epsilon:\n",
    "            return random.randint(0, self.action_space - 1)  # Explore\n",
    "        else:\n",
    "            return np.argmax(self.q_table[state])  # Exploit - do action that provides best Q-value\n",
    "    \n",
    "    def run_q(self, episodes=1000):\n",
    "        for episode in range(episodes):\n",
    "            state = self.start\n",
    "            while state != self.goal:\n",
    "                action = self.choose_action(state) # Choose an action\n",
    "                next_state = self.update_entry(state, action) # \n",
    "                state = next_state\n",
    "\n",
    "        print(\"Training completed!\")\n",
    "        print(\"Q-Table:\", self.q_table)\n",
    "    \n",
    "    # Plotting path and map\n",
    "    def trace_path(self):\n",
    "        state = self.start\n",
    "        path = [state]\n",
    "        while state != self.goal:\n",
    "            action = np.argmax(self.q_table[state])\n",
    "            state = self.state_observation(state, action)\n",
    "            if state in path:  # Prevent infinite loops\n",
    "                break\n",
    "            path.append(state)\n",
    "        return path\n",
    "\n",
    "    def plot_path(self):\n",
    "        path = self.trace_path()\n",
    "        path_grid = self.grid.copy()\n",
    "        \n",
    "        for step in path:\n",
    "            path_grid[step] = 3  # Mark the path\n",
    "        path_grid[self.start] = 1  # Start\n",
    "        path_grid[self.goal] = 2  # Goal\n",
    "\n",
    "        plt.figure(figsize=(6, 6))\n",
    "        plt.imshow(path_grid, cmap='Accent', origin='upper')\n",
    "        plt.title('Q-Learner Path from Start to Goal')\n",
    "        plt.show()"
   ]
  },
  {
   "cell_type": "markdown",
   "metadata": {},
   "source": [
    "Now that the Q-learning is completed, we can implement it for our path planning"
   ]
  },
  {
   "cell_type": "code",
   "execution_count": 207,
   "metadata": {},
   "outputs": [
    {
     "name": "stdout",
     "output_type": "stream",
     "text": [
      "Training completed!\n",
      "Q-Table: [[[ -5.23408426  -5.1964865   -5.28579224  -5.2603319 ]\n",
      "  [ -5.21902554  -5.26399255  -5.23487639  -5.2489282 ]\n",
      "  [ -5.23115099  -5.21237848  -5.22136962  -5.23874663]\n",
      "  ...\n",
      "  [ -5.03162053  -5.03623694  -5.06633462 -41.08553147]\n",
      "  [-10.          -1.12916947  -1.25296225 -10.        ]\n",
      "  [-19.9        -19.03121254 -10.009      -10.        ]]\n",
      "\n",
      " [[ -5.22114423 -10.          -5.18085227  -5.23445653]\n",
      "  [ -5.25725477  -5.2437295   -5.25812923  -5.22812959]\n",
      "  [ -5.23238437  -5.21820784  -5.25573731  -5.25195114]\n",
      "  ...\n",
      "  [ -5.06975515  -5.03560606  -5.03937996  -5.04809115]\n",
      "  [-27.15216445  -5.02350409  -5.0512351  -34.52211372]\n",
      "  [-19.          -1.05515988  -1.1577023  -10.        ]]\n",
      "\n",
      " [[ -0.90902151  -1.03087482 -27.15256779  -1.14372579]\n",
      "  [ -5.23818122  -5.24776308 -27.1171      -5.25314269]\n",
      "  [ -5.26424578  -5.22129698  -5.22595969  -5.23636583]\n",
      "  ...\n",
      "  [ -5.05991047  -5.03585827  -5.01919554  -5.03985612]\n",
      "  [ -5.02606888  -5.03243741  -5.01982439  -4.99409386]\n",
      "  [-34.43010715  -5.01061339  -5.00283351  -4.99066823]]\n",
      "\n",
      " ...\n",
      "\n",
      " [[ -5.12011928  -5.07197026  -5.10803965  -5.1049316 ]\n",
      "  [ -5.07603265  -5.10044983  -5.09348885 -41.15231022]\n",
      "  [ -1.72319239 -10.          -1.97310576  -1.99075205]\n",
      "  ...\n",
      "  [ -0.22473532  -0.1         -0.109      -10.        ]\n",
      "  [ -0.1         -0.1        -10.          -0.1       ]\n",
      "  [ -1.2107324   -1.20020886 -10.          -1.22219258]]\n",
      "\n",
      " [[ -5.11460716  -5.08929429  -5.09312982  -5.07108223]\n",
      "  [ -5.07271272  -5.11194951  -5.06890258 -52.32987542]\n",
      "  [-10.          -1.82633532  -1.59127281  -1.67105452]\n",
      "  ...\n",
      "  [-10.         -27.10981     -1.45632657  -1.37265152]\n",
      "  [-10.         -10.          -1.35366334  -1.27686941]\n",
      "  [ -1.25804425  -1.29481405  -1.25310023  -1.22478977]]\n",
      "\n",
      " [[ -5.12313721  -5.12188985  -5.08155394  -5.09437932]\n",
      "  [ -5.07667718  -5.07709124  -5.11921383  -5.0889153 ]\n",
      "  [-52.60745171  -5.08492358  -5.08899685  -5.0939471 ]\n",
      "  ...\n",
      "  [ -0.19       -19.          -0.26762978 -10.        ]\n",
      "  [ -0.1        -10.         -10.          -0.33223167]\n",
      "  [ -1.30539799  -1.31254187 -19.009       -1.31254187]]]\n"
     ]
    },
    {
     "data": {
      "image/png": "[encoded data removed]",
      "text/plain": [
       "<Figure size 600x600 with 1 Axes>"
      ]
     },
     "metadata": {},
     "output_type": "display_data"
    },
    {
     "name": "stdout",
     "output_type": "stream",
     "text": [
      "Blue = Start, Red = Goal\n"
     ]
    }
   ],
   "source": [
    "# Generate the grid\n",
    "grid_gen = GridGenerator(30, 200)\n",
    "grid_gen.generate_grid()\n",
    "grid_gen.generate_states()\n",
    "# grid_gen.print_grid()\n",
    "\n",
    "start = tuple(np.argwhere(grid_gen.grid == 1)[0])\n",
    "goal = tuple(np.argwhere(grid_gen.grid == 2)[0])\n",
    "\n",
    "# Train Q-Learner\n",
    "q_learner = QLearner(grid_gen.grid, start, goal, learning_rate=0.1, gamma=0.9, epsilon=0.1)\n",
    "q_learner.run_q(episodes=1000)\n",
    "\n",
    "# Plot the path\n",
    "q_learner.plot_path()\n",
    "print('Blue = Start, Red = Goal')\n"
   ]
  }
 ],
 "metadata": {
  "kernelspec": {
   "display_name": "myenv",
   "language": "python",
   "name": "python3"
  },
  "language_info": {
   "codemirror_mode": {
    "name": "ipython",
    "version": 3
   },
   "file_extension": ".py",
   "mimetype": "text/x-python",
   "name": "python",
   "nbconvert_exporter": "python",
   "pygments_lexer": "ipython3",
   "version": "3.1.undefined"
  }
 },
 "nbformat": 4,
 "nbformat_minor": 2
}
